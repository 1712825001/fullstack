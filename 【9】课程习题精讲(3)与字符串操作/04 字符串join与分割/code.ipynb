{
 "cells": [
  {
   "cell_type": "code",
   "execution_count": 29,
   "metadata": {},
   "outputs": [
    {
     "name": "stdout",
     "output_type": "stream",
     "text": [
      "select * from user where name='tom'\n"
     ]
    }
   ],
   "source": [
    "# 举例\n",
    "s1 = 'string'\n",
    "s2 = \"string2\"\n",
    "s3 = '''this's a \"String\"'''\n",
    "s4 = 'hello \\n magedu.com'\n",
    "s5 = r\"hello \\n magedu.com\"\n",
    "s6 = 'c:\\windows\\nt'\n",
    "s7 = R\"c:\\windows\\nt\"\n",
    "s8 = 'c:\\windows\\\\nt'\n",
    "sql = \"\"\"select * from user where name='tom'\"\"\"\n",
    "print(sql)"
   ]
  },
  {
   "cell_type": "code",
   "execution_count": 32,
   "metadata": {},
   "outputs": [
    {
     "name": "stdout",
     "output_type": "stream",
     "text": [
      "s\n",
      "<class 'str'>\n",
      "e\n",
      "<class 'str'>\n",
      "l\n",
      "<class 'str'>\n",
      "e\n",
      "<class 'str'>\n",
      "c\n",
      "<class 'str'>\n",
      "t\n",
      "<class 'str'>\n",
      " \n",
      "<class 'str'>\n",
      "*\n",
      "<class 'str'>\n",
      " \n",
      "<class 'str'>\n",
      "['s', 'e', 'l', 'e', 'c', 't', ' ', '*', ' ']\n",
      "['select * ']\n"
     ]
    },
    {
     "data": {
      "text/plain": [
       "'0,1,2,3,4,5,6,7,8,9'"
      ]
     },
     "execution_count": 32,
     "metadata": {},
     "output_type": "execute_result"
    }
   ],
   "source": [
    "# 字符串元素访问\n",
    "# 【1】字符串支持索引访问\n",
    "sql = \"\"\"select * from user where name='tom'\"\"\"\n",
    "sql[4] # 返回c\n",
    "#sql[4] = 'o' #返回TypeError\n",
    "\n",
    "# 【2】有序序列\n",
    "sql = \"select * \"\n",
    "for i in sql:\n",
    "    print(i)\n",
    "    print(type(i))\n",
    "    \n",
    "# 【3】可迭代\n",
    "sql = \"select * \"\n",
    "l0 = list(sql)\n",
    "l1 = [sql]\n",
    "print(l0)\n",
    "print(l1)\n",
    "','.join(sql)\n",
    "','.join(map(str, range(10)))"
   ]
  },
  {
   "cell_type": "code",
   "execution_count": 41,
   "metadata": {},
   "outputs": [
    {
     "name": "stdout",
     "output_type": "stream",
     "text": [
      "1\"2\"3\n",
      "1\"2\"3\n",
      "1|['a', 'b']|3\n"
     ]
    }
   ],
   "source": [
    "# 字符串join连接\n",
    "lst = ['1','2','3']\n",
    "print(\"\\\"\".join(lst))\n",
    "print('\"'.join(lst)) #单引号和双引号没有歧义可以不用转义\n",
    "lst = ['1',['a','b'],'3']\n",
    "print(\"|\".join(map(str, lst)))"
   ]
  },
  {
   "cell_type": "code",
   "execution_count": 55,
   "metadata": {},
   "outputs": [
    {
     "data": {
      "text/plain": [
       "['1\\n', '2\\n', '3']"
      ]
     },
     "execution_count": 55,
     "metadata": {},
     "output_type": "execute_result"
    }
   ],
   "source": [
    "# 字符串分割\n",
    "'a,b,c'.split('.') #找不到分隔符会返回原\n",
    "'a,b,c'.split(',')\n",
    "'a \\t\\rb\\nc d'.split(maxsplit=2) # 两个参数：第一个代表用什么切割，默认为None即为空行 第二个maxsplit=-1代表任意切割\n",
    "'a \\t\\rb\\nc d'.split(sep='\\n')\n",
    "'\\n'.join('@'.join(['1','2','3']).split('@')+['4'])\n",
    "'@'.join(['1','2','3']).rsplit('@',1)\n",
    "'\\n'.join(['1','2','3']).splitlines() #默认是False\n",
    "'\\n'.join(['1','2','3']).splitlines(True) # 保留尾巴\\n的意思"
   ]
  },
  {
   "cell_type": "code",
   "execution_count": 64,
   "metadata": {},
   "outputs": [
    {
     "data": {
      "text/plain": [
       "['/path/to', 'your', '000.txt']"
      ]
     },
     "execution_count": 64,
     "metadata": {},
     "output_type": "execute_result"
    }
   ],
   "source": [
    "# partition\n",
    "'1ab2ab3ab4'.partition('ab')\n",
    "'1ab2ab3ab4'.rpartition('ab')"
   ]
  },
  {
   "cell_type": "code",
   "execution_count": null,
   "metadata": {},
   "outputs": [],
   "source": [
    "# 字符串大小写\n"
   ]
  }
 ],
 "metadata": {
  "kernelspec": {
   "display_name": "Python 3",
   "language": "python",
   "name": "python3"
  },
  "language_info": {
   "codemirror_mode": {
    "name": "ipython",
    "version": 3
   },
   "file_extension": ".py",
   "mimetype": "text/x-python",
   "name": "python",
   "nbconvert_exporter": "python",
   "pygments_lexer": "ipython3",
   "version": "3.6.5"
  }
 },
 "nbformat": 4,
 "nbformat_minor": 2
}
