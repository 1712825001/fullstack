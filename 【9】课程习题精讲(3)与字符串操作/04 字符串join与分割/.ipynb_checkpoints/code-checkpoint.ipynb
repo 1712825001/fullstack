{
 "cells": [
  {
   "cell_type": "code",
   "execution_count": 29,
   "metadata": {},
   "outputs": [
    {
     "name": "stdout",
     "output_type": "stream",
     "text": [
      "select * from user where name='tom'\n"
     ]
    }
   ],
   "source": [
    "# 举例\n",
    "s1 = 'string'\n",
    "s2 = \"string2\"\n",
    "s3 = '''this's a \"String\"'''\n",
    "s4 = 'hello \\n magedu.com'\n",
    "s5 = r\"hello \\n magedu.com\"\n",
    "s6 = 'c:\\windows\\nt'\n",
    "s7 = R\"c:\\windows\\nt\"\n",
    "s8 = 'c:\\windows\\\\nt'\n",
    "sql = \"\"\"select * from user where name='tom'\"\"\"\n",
    "print(sql)"
   ]
  },
  {
   "cell_type": "code",
   "execution_count": 32,
   "metadata": {},
   "outputs": [
    {
     "name": "stdout",
     "output_type": "stream",
     "text": [
      "s\n",
      "<class 'str'>\n",
      "e\n",
      "<class 'str'>\n",
      "l\n",
      "<class 'str'>\n",
      "e\n",
      "<class 'str'>\n",
      "c\n",
      "<class 'str'>\n",
      "t\n",
      "<class 'str'>\n",
      " \n",
      "<class 'str'>\n",
      "*\n",
      "<class 'str'>\n",
      " \n",
      "<class 'str'>\n",
      "['s', 'e', 'l', 'e', 'c', 't', ' ', '*', ' ']\n",
      "['select * ']\n"
     ]
    },
    {
     "data": {
      "text/plain": [
       "'0,1,2,3,4,5,6,7,8,9'"
      ]
     },
     "execution_count": 32,
     "metadata": {},
     "output_type": "execute_result"
    }
   ],
   "source": [
    "# 字符串元素访问\n",
    "# 【1】字符串支持索引访问\n",
    "sql = \"\"\"select * from user where name='tom'\"\"\"\n",
    "sql[4] # 返回c\n",
    "#sql[4] = 'o' #返回TypeError\n",
    "\n",
    "# 【2】有序序列\n",
    "sql = \"select * \"\n",
    "for i in sql:\n",
    "    print(i)\n",
    "    print(type(i))\n",
    "    \n",
    "# 【3】可迭代\n",
    "sql = \"select * \"\n",
    "l0 = list(sql)\n",
    "l1 = [sql]\n",
    "print(l0)\n",
    "print(l1)\n",
    "','.join(sql)\n",
    "','.join(map(str, range(10)))"
   ]
  },
  {
   "cell_type": "code",
   "execution_count": null,
   "metadata": {},
   "outputs": [],
   "source": []
  }
 ],
 "metadata": {
  "kernelspec": {
   "display_name": "Python 3",
   "language": "python",
   "name": "python3"
  },
  "language_info": {
   "codemirror_mode": {
    "name": "ipython",
    "version": 3
   },
   "file_extension": ".py",
   "mimetype": "text/x-python",
   "name": "python",
   "nbconvert_exporter": "python",
   "pygments_lexer": "ipython3",
   "version": "3.6.5"
  }
 },
 "nbformat": 4,
 "nbformat_minor": 2
}
