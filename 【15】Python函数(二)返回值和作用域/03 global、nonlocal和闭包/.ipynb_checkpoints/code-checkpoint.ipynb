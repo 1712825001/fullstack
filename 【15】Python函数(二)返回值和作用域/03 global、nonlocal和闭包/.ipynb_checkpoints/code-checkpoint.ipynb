{
 "cells": [
  {
   "cell_type": "code",
   "execution_count": 4,
   "metadata": {},
   "outputs": [
    {
     "name": "stdout",
     "output_type": "stream",
     "text": [
      "6\n"
     ]
    }
   ],
   "source": [
    "x = 5\n",
    "def foo():\n",
    "    global x\n",
    "    x += 1\n",
    "    print(x)\n",
    "foo()"
   ]
  },
  {
   "cell_type": "code",
   "execution_count": 6,
   "metadata": {},
   "outputs": [
    {
     "name": "stdout",
     "output_type": "stream",
     "text": [
      "1 7\n",
      "2 7\n"
     ]
    }
   ],
   "source": [
    "x = 6\n",
    "def foo():\n",
    "    global x\n",
    "    x += 1\n",
    "    print(1,x)\n",
    "foo()\n",
    "print(2,x)"
   ]
  },
  {
   "cell_type": "code",
   "execution_count": 10,
   "metadata": {},
   "outputs": [
    {
     "name": "stdout",
     "output_type": "stream",
     "text": [
      "1 100\n",
      "2 201\n"
     ]
    }
   ],
   "source": [
    "z = 200\n",
    "def foo():\n",
    "    z = 100\n",
    "    def bar():\n",
    "        global z\n",
    "        z = z + 1\n",
    "    print(1,z)\n",
    "    bar()\n",
    "foo()\n",
    "print(2,z)"
   ]
  },
  {
   "cell_type": "code",
   "execution_count": null,
   "metadata": {},
   "outputs": [],
   "source": []
  }
 ],
 "metadata": {
  "kernelspec": {
   "display_name": "Python 3",
   "language": "python",
   "name": "python3"
  },
  "language_info": {
   "codemirror_mode": {
    "name": "ipython",
    "version": 3
   },
   "file_extension": ".py",
   "mimetype": "text/x-python",
   "name": "python",
   "nbconvert_exporter": "python",
   "pygments_lexer": "ipython3",
   "version": "3.6.5"
  }
 },
 "nbformat": 4,
 "nbformat_minor": 2
}
