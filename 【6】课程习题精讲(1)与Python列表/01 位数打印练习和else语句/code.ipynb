{
 "cells": [
  {
   "cell_type": "code",
   "execution_count": 5,
   "metadata": {},
   "outputs": [
    {
     "name": "stdout",
     "output_type": "stream",
     "text": [
      "5 4 3 2 1 "
     ]
    }
   ],
   "source": [
    "x = 54321\n",
    "w = 10000\n",
    "n = 5\n",
    "for i in range(n):\n",
    "    print(x // w, end=' ')\n",
    "    x = x % w\n",
    "    w = w // 10"
   ]
  },
  {
   "cell_type": "code",
   "execution_count": 20,
   "metadata": {},
   "outputs": [
    {
     "name": "stdout",
     "output_type": "stream",
     "text": [
      "5 0 1 "
     ]
    }
   ],
   "source": [
    "x = '00501'\n",
    "x = int(x)\n",
    "n = 5\n",
    "w = 10 ** (n-1)\n",
    "\n",
    "flag = False\n",
    "\n",
    "for i in range(n): # 0 1 2 3\n",
    "    y = x // w # 0 0 5 0\n",
    "    if flag or y: # 0 0 1 0\n",
    "        print(y, end=' ')\n",
    "        flag = True\n",
    "    x = x % w  # 501 501 1 0\n",
    "    w = w // 10 # 1000 100 10 0"
   ]
  },
  {
   "cell_type": "code",
   "execution_count": null,
   "metadata": {},
   "outputs": [],
   "source": []
  },
  {
   "cell_type": "code",
   "execution_count": null,
   "metadata": {},
   "outputs": [],
   "source": []
  }
 ],
 "metadata": {
  "kernelspec": {
   "display_name": "Python 3",
   "language": "python",
   "name": "python3"
  },
  "language_info": {
   "codemirror_mode": {
    "name": "ipython",
    "version": 3
   },
   "file_extension": ".py",
   "mimetype": "text/x-python",
   "name": "python",
   "nbconvert_exporter": "python",
   "pygments_lexer": "ipython3",
   "version": "3.6.5"
  }
 },
 "nbformat": 4,
 "nbformat_minor": 2
}
