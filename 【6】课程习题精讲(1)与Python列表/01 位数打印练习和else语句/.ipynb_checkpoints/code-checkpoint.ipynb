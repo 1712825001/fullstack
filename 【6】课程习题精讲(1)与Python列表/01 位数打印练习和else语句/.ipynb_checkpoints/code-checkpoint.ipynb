{
 "cells": [
  {
   "cell_type": "code",
   "execution_count": 5,
   "metadata": {},
   "outputs": [
    {
     "name": "stdout",
     "output_type": "stream",
     "text": [
      "5 4 3 2 1 "
     ]
    }
   ],
   "source": [
    "x = 54321\n",
    "w = 10000\n",
    "n = 5\n",
    "for i in range(n):\n",
    "    print(x // w, end=' ')\n",
    "    x = x % w\n",
    "    w = w // 10"
   ]
  },
  {
   "cell_type": "code",
   "execution_count": 4,
   "metadata": {},
   "outputs": [
    {
     "name": "stdout",
     "output_type": "stream",
     "text": [
      "7 0 0 "
     ]
    }
   ],
   "source": [
    "x = '00700'\n",
    "x = int(x)\n",
    "n = 5\n",
    "w = 10 ** (n-1)\n",
    "\n",
    "flag = False\n",
    "\n",
    "for i in range(n): # i:0 1 2 3 4\n",
    "    y = x // w # y:0 0 7 70 700\n",
    "    if flag or y: # 0 0 1 1 1\n",
    "        print(y, end=' ')\n",
    "        flag = True\n",
    "    x = x % w  # x:700 700 0 0 0\n",
    "    w = w // 10 # w:1000 100 10 1 "
   ]
  },
  {
   "cell_type": "code",
   "execution_count": null,
   "metadata": {},
   "outputs": [],
   "source": []
  },
  {
   "cell_type": "code",
   "execution_count": null,
   "metadata": {},
   "outputs": [],
   "source": []
  }
 ],
 "metadata": {
  "kernelspec": {
   "display_name": "Python 3",
   "language": "python",
   "name": "python3"
  },
  "language_info": {
   "codemirror_mode": {
    "name": "ipython",
    "version": 3
   },
   "file_extension": ".py",
   "mimetype": "text/x-python",
   "name": "python",
   "nbconvert_exporter": "python",
   "pygments_lexer": "ipython3",
   "version": "3.6.8"
  }
 },
 "nbformat": 4,
 "nbformat_minor": 2
}
